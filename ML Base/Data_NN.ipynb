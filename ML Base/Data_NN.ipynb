{
 "cells": [
  {
   "cell_type": "code",
   "execution_count": 5,
   "metadata": {},
   "outputs": [],
   "source": [
    "import torch\n",
    "import torch.nn as nn\n",
    "import torch.nn.parallel\n",
    "import torch.optim\n",
    "import torch.utils.data\n",
    "import torch.utils.data.distributed\n",
    "import torchvision.datasets as datasets\n",
    "from torchvision.datasets.utils import download_url\n",
    "import matplotlib.pyplot as plt\n",
    "import torchvision.transforms as transforms\n",
    "import torch.nn.functional as functions\n",
    "import tarfile\n",
    "from torchvision.datasets import ImageFolder\n",
    "from torchvision.transforms import ToTensor\n",
    "import numpy as np\n",
    "import pandas as pd"
   ]
  },
  {
   "cell_type": "code",
   "execution_count": 6,
   "metadata": {},
   "outputs": [],
   "source": [
    "#Importing all of the Stock data found at \"https://www.nasdaq.com/market-activity/quotes/historical\". I am just using opening data\n",
    "df1 = pd.read_csv('/Users/valendunn/Desktop/FPGA-ML/ML Base/HistoricalData_1727760112203.csv', sep = ',', header = None)\n",
    "openingAAPL = df1[3].str.replace('$', '')\n",
    "openingAAPL = openingAAPL.drop(0)\n",
    "openingAAPL = openingAAPL.apply(float)"
   ]
  },
  {
   "cell_type": "code",
   "execution_count": 7,
   "metadata": {},
   "outputs": [],
   "source": [
    "df2 = pd.read_csv('/Users/valendunn/Desktop/FPGA-ML/ML Base/HistoricalData_1727760148202.csv', sep = ',', header = None)\n",
    "openingSUBX = df2[3].str.replace('$', '')\n",
    "openingSUBX = openingSUBX.drop(0)\n",
    "openingSUBX = openingSUBX.apply(float)"
   ]
  },
  {
   "cell_type": "code",
   "execution_count": 8,
   "metadata": {},
   "outputs": [],
   "source": [
    "df3 = pd.read_csv('/Users/valendunn/Desktop/FPGA-ML/ML Base/HistoricalData_1727760169825.csv', sep = ',', header = None)\n",
    "openingMSFT = df3[3].str.replace('$', '')\n",
    "openingMSFT = openingMSFT.drop(0)\n",
    "openingMSFT = openingMSFT.apply(float)"
   ]
  },
  {
   "cell_type": "code",
   "execution_count": 9,
   "metadata": {},
   "outputs": [],
   "source": [
    "df4 = pd.read_csv('/Users/valendunn/Desktop/FPGA-ML/ML Base/HistoricalData_1727760179851.csv', sep = ',', header = None)\n",
    "openingCSCO = df4[3].str.replace('$', '')\n",
    "openingCSCO = openingCSCO.drop(0)\n",
    "openingCSCO = openingCSCO.apply(float)"
   ]
  },
  {
   "cell_type": "code",
   "execution_count": 10,
   "metadata": {},
   "outputs": [],
   "source": [
    "df5 = pd.read_csv('/Users/valendunn/Desktop/FPGA-ML/ML Base/HistoricalData_1727760200748.csv', sep = ',', header = None)\n",
    "openingQCOM = df5[3].str.replace('$', '')\n",
    "openingQCOM = openingQCOM.drop(0)\n",
    "openingQCOM = openingQCOM.apply(float)"
   ]
  },
  {
   "cell_type": "code",
   "execution_count": 11,
   "metadata": {},
   "outputs": [],
   "source": [
    "df6 = pd.read_csv('/Users/valendunn/Desktop/FPGA-ML/ML Base/HistoricalData_1727760225227.csv', sep = ',', header = None)\n",
    "openingMETA = df6[3].str.replace('$', '')\n",
    "openingMETA = openingMETA.drop(0)\n",
    "openingMETA = openingMETA.apply(float)"
   ]
  },
  {
   "cell_type": "code",
   "execution_count": 12,
   "metadata": {},
   "outputs": [],
   "source": [
    "df7 = pd.read_csv('/Users/valendunn/Desktop/FPGA-ML/ML Base/HistoricalData_1727760253051.csv', sep = ',', header = None)\n",
    "openingAMZN = df7[3].str.replace('$', '')\n",
    "openingAMZN = openingAMZN.drop(0)\n",
    "openingAMZN = openingAMZN.apply(float)"
   ]
  },
  {
   "cell_type": "code",
   "execution_count": 13,
   "metadata": {},
   "outputs": [],
   "source": [
    "df8 = pd.read_csv('/Users/valendunn/Desktop/FPGA-ML/ML Base/HistoricalData_1727760263750.csv', sep = ',', header = None)\n",
    "openingTSLA = df8[3].str.replace('$', '')\n",
    "openingTSLA = openingTSLA.drop(0)\n",
    "openingTSLA = openingTSLA.apply(float)"
   ]
  },
  {
   "cell_type": "code",
   "execution_count": 14,
   "metadata": {},
   "outputs": [],
   "source": [
    "df9 = pd.read_csv('/Users/valendunn/Desktop/FPGA-ML/ML Base/HistoricalData_1727760263750.csv', sep = ',', header = None)\n",
    "openingAMD = df9[3].str.replace('$', '')\n",
    "openingAMD = openingAMD.drop(0)\n",
    "openingAMD = openingAMD.apply(float)"
   ]
  },
  {
   "cell_type": "code",
   "execution_count": 15,
   "metadata": {},
   "outputs": [],
   "source": [
    "df10 = pd.read_csv('/Users/valendunn/Desktop/FPGA-ML/ML Base/HistoricalData_1727760293784.csv', sep = ',', header = None)\n",
    "openingNFLX = df10[3].str.replace('$', '')\n",
    "openingNFLX = openingNFLX.drop(0)\n",
    "openingNFLX = openingNFLX.apply(float)\n"
   ]
  },
  {
   "cell_type": "code",
   "execution_count": 16,
   "metadata": {},
   "outputs": [
    {
     "name": "stdout",
     "output_type": "stream",
     "text": [
      "             3      3        3      3       3       3         3         3  \\\n",
      "1     230.0400  97.39  428.210  53.02  171.37  567.70  187.1400  259.0400   \n",
      "2     228.4600  97.65  431.520  53.04  173.00  570.10  190.6800  257.3750   \n",
      "3     227.3000  98.50  435.085  53.00  174.91  575.73  194.3100  260.6000   \n",
      "4     224.9300  94.26  429.830  52.57  166.28  564.05  193.7500  252.5400   \n",
      "5     228.6450  95.47  433.000  52.21  167.42  566.68  194.2700  254.0800   \n",
      "...        ...    ...      ...    ...     ...     ...       ...       ...   \n",
      "1255   56.4100  84.90  136.750  47.25   76.32  179.55   86.3010   15.4407   \n",
      "1256   54.6075  84.30  134.950  46.32   73.93  175.57   85.6500   15.4573   \n",
      "1257   55.7650  85.95  136.250  47.35   75.26  174.84   86.3870   16.2193   \n",
      "1258   56.2675  88.63  139.660  49.65   77.06  179.15   87.3000   16.1000   \n",
      "1259   55.2250  88.41  138.050  48.95   76.89  177.87   86.3495   16.2000   \n",
      "\n",
      "             3        3  \n",
      "1     259.0400  707.000  \n",
      "2     257.3750  708.360  \n",
      "3     260.6000  724.730  \n",
      "4     252.5400  721.000  \n",
      "5     254.0800  706.625  \n",
      "...        ...      ...  \n",
      "1255   15.4407  268.200  \n",
      "1256   15.4573  267.780  \n",
      "1257   16.2193  263.610  \n",
      "1258   16.1000  267.350  \n",
      "1259   16.2000  264.000  \n",
      "\n",
      "[1259 rows x 10 columns]\n"
     ]
    }
   ],
   "source": [
    "#Put them all in one dataset to go through all of the info\n",
    "openingALL = pd.concat([openingAAPL, openingSUBX, openingMSFT, openingCSCO, openingQCOM, openingMETA, openingAMZN, openingTSLA, openingAMD, openingNFLX], axis =1 )\n",
    "print(openingALL)"
   ]
  },
  {
   "cell_type": "code",
   "execution_count": 44,
   "metadata": {},
   "outputs": [],
   "source": [
    "#turning the pd data into a tensor dataset\n",
    "l = openingAAPL.size\n",
    "i = 1\n",
    "dataset = torch.zeros(11920, 150)\n",
    "labels = torch.zeros(11920,1)\n",
    "num = 0\n",
    "k = 0\n",
    "while(k < 10):\n",
    "    i = 0\n",
    "    while(i+67 < l):\n",
    "        labels[num] = openingALL.iloc[i,k]\n",
    "        entry = torch.zeros(1,150)\n",
    "        j = 0\n",
    "        while(j < 60):\n",
    "            entry[0,j] = openingALL.iloc[(i+7+j), k]\n",
    "            j+= 1\n",
    "        c = 0\n",
    "        entryn = 60\n",
    "        while(c < 10):\n",
    "            if(c != k):\n",
    "                t = 0\n",
    "                while(t < 10):\n",
    "                    entry[0,entryn] = openingALL.iloc[(i+7+t),c]\n",
    "                    entryn += 1\n",
    "                    t += 1\n",
    "            c+= 1\n",
    "        dataset[num] = entry\n",
    "        num += 1\n",
    "        i+= 1\n",
    "    k+= 1"
   ]
  },
  {
   "cell_type": "code",
   "execution_count": 36,
   "metadata": {},
   "outputs": [],
   "source": [
    "#testing how to set up each entry\n",
    "entry = torch.zeros(1,150)\n",
    "j = 0\n",
    "while(j <= 60):\n",
    "    entry[0,j] = openingALL.iloc[(i+7+j), k]\n",
    "    j+= 1\n",
    "c = 0\n",
    "entryn = 60\n",
    "while(c < 10):\n",
    "    if(c != k):\n",
    "        t = 0\n",
    "        while(t < 10):\n",
    "            entry[0,entryn] = openingALL.iloc[(i+7+t),c]\n",
    "            entryn += 1\n",
    "            t += 1\n",
    "    c+= 1"
   ]
  },
  {
   "cell_type": "code",
   "execution_count": 45,
   "metadata": {},
   "outputs": [
    {
     "name": "stdout",
     "output_type": "stream",
     "text": [
      "tensor([[224.9900, 217.5500, 215.7500,  ..., 676.8700, 674.0000, 681.8600],\n",
      "        [217.5500, 215.7500, 216.5400,  ..., 674.0000, 681.8600, 673.1400],\n",
      "        [215.7500, 216.5400, 223.5800,  ..., 681.8600, 673.1400, 673.3100],\n",
      "        ...,\n",
      "        [332.9600, 334.6000, 334.0100,  ...,  25.2660,  24.1700,  24.0700],\n",
      "        [334.6000, 334.0100, 337.7600,  ...,  24.1700,  24.0700,  23.6613],\n",
      "        [334.0100, 337.7600, 335.0000,  ...,  24.0700,  23.6613,  23.4584]])\n",
      "tensor([[230.0400],\n",
      "        [228.4600],\n",
      "        [227.3000],\n",
      "        ...,\n",
      "        [331.4900],\n",
      "        [336.4700],\n",
      "        [323.1200]])\n"
     ]
    },
    {
     "data": {
      "text/plain": [
       "11920"
      ]
     },
     "execution_count": 45,
     "metadata": {},
     "output_type": "execute_result"
    }
   ],
   "source": [
    "#printing to check\n",
    "print(dataset)\n",
    "print(labels)\n",
    "\n",
    "1192*10"
   ]
  },
  {
   "cell_type": "code",
   "execution_count": 51,
   "metadata": {},
   "outputs": [
    {
     "name": "stdout",
     "output_type": "stream",
     "text": [
      "11920.0\n",
      "11920\n"
     ]
    }
   ],
   "source": [
    "findata =torch.utils.data.TensorDataset(dataset, labels)\n",
    "\n",
    "train_len = 0.8 * len(findata)\n",
    "test_len = len(findata) - train_len\n",
    "\n",
    "print(test_len + train_len)\n",
    "print(len(findata))\n",
    "\n",
    "train_set, test_set = torch.utils.data.random_split(findata, [int(train_len), int(test_len)])"
   ]
  },
  {
   "cell_type": "code",
   "execution_count": 114,
   "metadata": {},
   "outputs": [],
   "source": [
    "#Setting up the data for seperate or unified training\n",
    "aapldata = findata[0:1191]\n",
    "subxdata = findata[1192:2383]\n",
    "msftdata = findata[2384:3575]\n",
    "cscodata = findata[3576:4767]\n",
    "qcomdata = findata[4768:5959]\n",
    "metadata = findata[5960:7151]\n",
    "amzndata = findata[7152:8343]\n",
    "tsladata = findata[8344:9535]\n",
    "amddata = findata[9536:10727]\n",
    "nflxdata = findata[10728:11919]\n"
   ]
  }
 ],
 "metadata": {
  "kernelspec": {
   "display_name": "intel",
   "language": "python",
   "name": "intel"
  },
  "language_info": {
   "codemirror_mode": {
    "name": "ipython",
    "version": 3
   },
   "file_extension": ".py",
   "mimetype": "text/x-python",
   "name": "python",
   "nbconvert_exporter": "python",
   "pygments_lexer": "ipython3",
   "version": "3.12.4"
  }
 },
 "nbformat": 4,
 "nbformat_minor": 2
}
